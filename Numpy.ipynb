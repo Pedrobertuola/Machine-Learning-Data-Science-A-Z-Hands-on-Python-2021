{
 "cells": [
  {
   "cell_type": "code",
   "execution_count": 2,
   "id": "4d18ad16",
   "metadata": {},
   "outputs": [],
   "source": [
    "import numpy as np\n",
    "NumP_Array = np.array([[1,2,3], [2,6,7]])"
   ]
  },
  {
   "cell_type": "code",
   "execution_count": 3,
   "id": "2e73c187",
   "metadata": {},
   "outputs": [
    {
     "name": "stdout",
     "output_type": "stream",
     "text": [
      "[[18 25]\n",
      " [37 51]]\n"
     ]
    }
   ],
   "source": [
    "NP1 = np.array([[1,3], [4,5]])\n",
    "\n",
    "NP2 = np.array([[3,4], [5,7]])\n",
    "\n",
    "MNP = NP1@NP2\n",
    "print(MNP)\n",
    "#@ = multiplica utilizando as regras das matrizes"
   ]
  },
  {
   "cell_type": "code",
   "execution_count": 4,
   "id": "8f97c6b5",
   "metadata": {},
   "outputs": [
    {
     "data": {
      "text/plain": [
       "array([[ 3, 12],\n",
       "       [20, 35]])"
      ]
     },
     "execution_count": 4,
     "metadata": {},
     "output_type": "execute_result"
    }
   ],
   "source": [
    "#Multiplicação de elemento por elemento\n",
    "MNP = NP1*NP2\n",
    "MNP"
   ]
  },
  {
   "cell_type": "code",
   "execution_count": 5,
   "id": "d7d4468f",
   "metadata": {},
   "outputs": [
    {
     "data": {
      "text/plain": [
       "array([[18, 25],\n",
       "       [37, 51]])"
      ]
     },
     "execution_count": 5,
     "metadata": {},
     "output_type": "execute_result"
    }
   ],
   "source": [
    "#=@\n",
    "MNP3 = np.dot(NP1, NP2)\n",
    "MNP3"
   ]
  },
  {
   "cell_type": "code",
   "execution_count": 6,
   "id": "01e1d498",
   "metadata": {},
   "outputs": [
    {
     "data": {
      "text/plain": [
       "array([[ 4,  7],\n",
       "       [ 9, 12]])"
      ]
     },
     "execution_count": 6,
     "metadata": {},
     "output_type": "execute_result"
    }
   ],
   "source": [
    "Sm1 = NP1+NP2\n",
    "Sm1"
   ]
  },
  {
   "cell_type": "code",
   "execution_count": 7,
   "id": "8125bd62",
   "metadata": {},
   "outputs": [
    {
     "data": {
      "text/plain": [
       "array([[-2, -1],\n",
       "       [-1, -2]])"
      ]
     },
     "execution_count": 7,
     "metadata": {},
     "output_type": "execute_result"
    }
   ],
   "source": [
    "Sub1=NP1-NP2\n",
    "Sub1"
   ]
  },
  {
   "cell_type": "code",
   "execution_count": null,
   "id": "3a191993",
   "metadata": {},
   "outputs": [],
   "source": [
    "Sub2 = np.subtract(NP1,NP2)"
   ]
  },
  {
   "cell_type": "code",
   "execution_count": 9,
   "id": "a194526e",
   "metadata": {},
   "outputs": [
    {
     "data": {
      "text/plain": [
       "array([1, 3, 4, 5, 7, 9])"
      ]
     },
     "execution_count": 9,
     "metadata": {},
     "output_type": "execute_result"
    }
   ],
   "source": [
    "Data_N = np.array([1, 3, 4, 5, 7, 9])\n",
    "Data_N"
   ]
  },
  {
   "cell_type": "code",
   "execution_count": 11,
   "id": "e010269e",
   "metadata": {},
   "outputs": [
    {
     "data": {
      "text/plain": [
       "4.833333333333333"
      ]
     },
     "execution_count": 11,
     "metadata": {},
     "output_type": "execute_result"
    }
   ],
   "source": [
    "#Média\n",
    "Mean_N = np.mean(Data_N)\n",
    "Mean_N"
   ]
  },
  {
   "cell_type": "code",
   "execution_count": 12,
   "id": "00c69a89",
   "metadata": {},
   "outputs": [
    {
     "data": {
      "text/plain": [
       "4.5"
      ]
     },
     "execution_count": 12,
     "metadata": {},
     "output_type": "execute_result"
    }
   ],
   "source": [
    "#Mediana\n",
    "Median_N = np.median(Data_N)\n",
    "Median_N"
   ]
  },
  {
   "cell_type": "code",
   "execution_count": 14,
   "id": "da383f9a",
   "metadata": {},
   "outputs": [
    {
     "data": {
      "text/plain": [
       "6.805555555555556"
      ]
     },
     "execution_count": 14,
     "metadata": {},
     "output_type": "execute_result"
    }
   ],
   "source": [
    "#Variancia\n",
    "\n",
    "var_N = np.var(Data_N)\n",
    "\n",
    "var_N"
   ]
  },
  {
   "cell_type": "code",
   "execution_count": 16,
   "id": "4505574f",
   "metadata": {},
   "outputs": [
    {
     "data": {
      "text/plain": [
       "2.608745973749755"
      ]
     },
     "execution_count": 16,
     "metadata": {},
     "output_type": "execute_result"
    }
   ],
   "source": [
    "#Desvio padrão\n",
    "\n",
    "SD_N = np.std(Data_N)\n",
    "SD_N"
   ]
  },
  {
   "cell_type": "code",
   "execution_count": 17,
   "id": "13c9a87b",
   "metadata": {},
   "outputs": [],
   "source": [
    "NumP_Array = np.array([[1,2,3], [4,6,7]])"
   ]
  },
  {
   "cell_type": "code",
   "execution_count": 18,
   "id": "df2920e7",
   "metadata": {},
   "outputs": [
    {
     "data": {
      "text/plain": [
       "array([0.66666667, 1.55555556])"
      ]
     },
     "execution_count": 18,
     "metadata": {},
     "output_type": "execute_result"
    }
   ],
   "source": [
    "#\n",
    "var_nump = np.var(NumP_Array, axis=1)\n",
    "var_nump\n",
    "#Retorna a vaciancia de cada uma das filas"
   ]
  },
  {
   "cell_type": "code",
   "execution_count": 19,
   "id": "3570a302",
   "metadata": {},
   "outputs": [
    {
     "data": {
      "text/plain": [
       "array([2.25, 4.  , 4.  ])"
      ]
     },
     "execution_count": 19,
     "metadata": {},
     "output_type": "execute_result"
    }
   ],
   "source": [
    "var_nump2 = np.var(NumP_Array, axis=0)\n",
    "var_nump2\n",
    "#Retorna uma variância para cada coluna"
   ]
  }
 ],
 "metadata": {
  "kernelspec": {
   "display_name": "Python 3",
   "language": "python",
   "name": "python3"
  },
  "language_info": {
   "codemirror_mode": {
    "name": "ipython",
    "version": 3
   },
   "file_extension": ".py",
   "mimetype": "text/x-python",
   "name": "python",
   "nbconvert_exporter": "python",
   "pygments_lexer": "ipython3",
   "version": "3.8.8"
  }
 },
 "nbformat": 4,
 "nbformat_minor": 5
}
